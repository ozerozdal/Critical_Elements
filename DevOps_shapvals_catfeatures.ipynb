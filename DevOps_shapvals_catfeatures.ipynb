{
 "cells": [
  {
   "cell_type": "code",
   "execution_count": 1,
   "id": "25636907",
   "metadata": {},
   "outputs": [],
   "source": [
    "import numpy as np\n",
    "import pandas as pd\n",
    "import os\n",
    "import rasterio\n",
    "from GeoDS import hypercube\n",
    "from GeoDS.prospectivity import hyperparameterstuning\n",
    "from GeoDS import utilities\n",
    "from GeoDS.supervised import mapclass\n",
    "from GeoDS import reporting \n",
    "from GeoDS.prospectivity import featureimportance as fe\n",
    "from GeoDS import eda\n",
    "from GeoDS import datawrangle\n",
    "from sklearn.model_selection import StratifiedGroupKFold\n",
    "from sklearn.model_selection import GroupKFold\n",
    "from sklearn.model_selection import KFold\n",
    "from sklearn.model_selection import train_test_split\n",
    "from joblib import dump, load\n",
    "import glob\n",
    "from dask import dataframe as dd\n",
    "\n",
    "import optuna\n",
    "from optuna import pruners\n",
    "from imblearn.pipeline import Pipeline\n",
    "\n",
    "from sklearn.ensemble import StackingClassifier\n",
    "from sklearn.linear_model import LogisticRegression\n",
    "from sklearn.metrics import make_scorer, roc_auc_score, accuracy_score, f1_score, precision_score, recall_score\n",
    "from sklearn.ensemble import RandomForestClassifier\n",
    "from matplotlib import pyplot as plt\n",
    "\n",
    "#import tensorflow as tf\n",
    "#import tensorflow_data_validation as tfdv\n",
    "#from tensorflow_metadata.proto.v0 import schema_pb2\n",
    "\n",
    "#print('TFDV Version: {}'.format(tfdv.__version__))\n",
    "#print('Tensorflow Version: {}'.format(tf.__version__))\n",
    "\n",
    "plt.rcParamsDefault[\"figure.figsize\"] = [20., 20.]\n",
    "plt.rcParams[\"figure.facecolor\"] = 'white'\n",
    "plt.rcParams[\"axes.facecolor\"] = 'white'\n",
    "plt.rcParams[\"savefig.facecolor\"] = 'white'\n",
    "\n",
    "from new_util import *\n"
   ]
  },
  {
   "cell_type": "code",
   "execution_count": 2,
   "id": "e56d2149",
   "metadata": {},
   "outputs": [],
   "source": [
    "crs = 'epsg:26918'\n",
    "AOI = 'Inputs/AOI/shape/AOI_geol.shp'\n",
    "pixel_size = 5\n",
    "xRes = pixel_size\n",
    "yRes = pixel_size\n",
    "\n",
    "# Random seed\n",
    "random_state = 42"
   ]
  },
  {
   "cell_type": "code",
   "execution_count": 3,
   "id": "aafb232f",
   "metadata": {},
   "outputs": [],
   "source": [
    "trial_name = 'ProgressBarTest'\n",
    "\n",
    "reporting_folder = os.path.join(trial_name, 'reporting/')\n",
    "output_folder = os.path.join(trial_name, 'outputs/')\n",
    "predictions_folder = os.path.join(trial_name, 'predictions/')\n",
    "CatBoost_predictions_folder = os.path.join(predictions_folder, 'CatBoost_predictions/')\n",
    "RF_predictions_folder = os.path.join(predictions_folder, 'RF_predictions/')\n",
    "LGBM_predictions_folder = os.path.join(predictions_folder, 'LGBM_predictions/')\n",
    "SVM_predictions_folder = os.path.join(predictions_folder, 'SVM_predictions/')\n",
    "\n",
    "if not os.path.exists(reporting_folder):\n",
    "    os.makedirs(reporting_folder)\n",
    "        \n",
    "if not os.path.exists(output_folder):\n",
    "    os.makedirs(output_folder)\n",
    "\n",
    "if not os.path.exists(predictions_folder):\n",
    "    os.makedirs(predictions_folder) \n",
    "\n",
    "if not os.path.exists(CatBoost_predictions_folder):\n",
    "    os.makedirs(CatBoost_predictions_folder)\n",
    "\n",
    "if not os.path.exists(RF_predictions_folder):\n",
    "    os.makedirs(RF_predictions_folder)\n",
    "    \n",
    "if not os.path.exists(LGBM_predictions_folder):\n",
    "    os.makedirs(LGBM_predictions_folder)\n",
    "\n",
    "if not os.path.exists(SVM_predictions_folder):\n",
    "    os.makedirs(SVM_predictions_folder) "
   ]
  },
  {
   "cell_type": "code",
   "execution_count": 51,
   "id": "3fdacb92",
   "metadata": {},
   "outputs": [],
   "source": [
    "import glob\n",
    "import rasterio\n",
    "import pandas as pd\n",
    "import numpy as np\n",
    "import geopandas as gpd\n",
    "import os\n",
    "import warnings\n",
    "from pathlib import Path\n",
    "import rioxarray\n",
    "from osgeo import gdal, gdalconst\n",
    "from GeoDS import utilities\n",
    "import subprocess\n",
    "import xarray\n",
    "import json\n",
    "\n",
    "\n",
    "def _reproject_tif_folder(input_folder, output_folder, crs, xRes, yRes):\n",
    "    tifs = glob.glob(os.path.join(input_folder, '*.tif'))\n",
    "\n",
    "    if not len(tifs) > 0:\n",
    "        raise ValueError(\n",
    "            \"The input folder you provided do not contain any geotiffs. Please check your spelling.\")\n",
    "\n",
    "    if not os.path.exists(output_folder):\n",
    "        os.makedirs(output_folder)\n",
    "\n",
    "    for t in tifs:\n",
    "        filename, ext, directory = utilities.Path_Info(t)\n",
    "        newname = filename + '.tif'\n",
    "        newpath = os.path.join(output_folder, newname)\n",
    "\n",
    "        utilities.warp(input_geotiff=t, output_geotiff=newpath,\n",
    "                       dstSRS=crs, xRes=xRes, yRes=yRes)\n",
    "\n",
    "\n",
    "def _get_geotiff_information(input_tif):\n",
    "    src = rasterio.open(input_tif)\n",
    "    if(src.crs == None):\n",
    "        # In case no CRS exists\n",
    "        crs = 'INVALID CRS. CRS = None. PLEASE CHECK.'\n",
    "    else:\n",
    "        try:\n",
    "            # We need a try statement in case the CRS is a weird output by oasis montaj. Could not repeat the exact issue I had with the output from Michael Cain but I think this will handle future issues.\n",
    "            crs = src.crs['init']\n",
    "        except:\n",
    "            crs = 'INVALID CRS. CANNOT ACCES [\\'init\\'] property. PLEASE CHECK.'\n",
    "            pass\n",
    "\n",
    "    shape = src.shape\n",
    "    nb_bands = src.count\n",
    "    types = src.dtypes\n",
    "    nodata_values_by_bands = src.nodatavals\n",
    "    nodata_value = src.nodata\n",
    "    # not using the src.transform\n",
    "    try:\n",
    "        gt = src.transform\n",
    "        pixelSizeX = gt[0]\n",
    "        pixelSizeY = -gt[4]\n",
    "        resolution = (pixelSizeX, pixelSizeY)\n",
    "    except:\n",
    "        resolution = ('error cannot access transform attribute',\n",
    "                      'error cannot access transform attribute')\n",
    "        pass\n",
    "\n",
    "    from shapely.geometry import box\n",
    "    bounds = src.bounds\n",
    "    geom = box(*bounds)\n",
    "    src.close()\n",
    "\n",
    "    return crs, shape, nb_bands, types, nodata_values_by_bands, nodata_value, resolution, geom\n",
    "\n",
    "\n",
    "def sanity_check(input_directories, working_aoi, working_crs, output_directory='Sanity_Report/'):\n",
    "    \"\"\"\n",
    "    Performs a validation on each on the input layers. Will output a csv to assess shape, crs, nb_bands, resolution, bounding box in working AOI, nodata value\n",
    "    I suggest you do this and before each project, make sure that all the layers have the right and same CRS, the same no-data value, are single-bands, non corrupt and contained in the working AOI.\n",
    "    Parameters\n",
    "    ----------\n",
    "    input_directory : list\n",
    "        list where each element is a string of the path to the directory which contains all the input geotiff\n",
    "    working_aoi : str\n",
    "        path to a shapefile containing a sole polygon of the aoi. That polygon should have only one field called 'value' and set to 1\n",
    "    working_crs : str\n",
    "        the destination CRS, such as \"epsg:26921\" per example. Not implemented yet, will help to have a column that tells if CRS is good or not.\n",
    "    Returns\n",
    "    -------\n",
    "        None\n",
    "    Examples\n",
    "    --------\n",
    "        Perform a sanity check. Will ouput a report (excel format) in Sanity_Report/ folder .\n",
    "        >>> datawrangle.sanity_check(input_directories='path_to_input/layers/folder/', working_aoi='path/to/aoi.shp', working_crs='epsg:31981')\n",
    "    \"\"\"\n",
    "    files_names = []\n",
    "    for dir in input_directories:\n",
    "        names = glob.glob(os.path.join(dir, \"*.tif\"))\n",
    "        files_names.extend(names)\n",
    "\n",
    "    if (len(files_names) == 0):\n",
    "        # This means that the input_directory is empty or no data is contained.\n",
    "        print(\"Input folder is either empty or you gave the wrong path. Please double check and come back.\")\n",
    "        return None\n",
    "\n",
    "    df = pd.DataFrame(files_names, columns=['file_name'])\n",
    "    df['crs'], df['shape'], df['nb_bands'], df['types'], df['nodata_values_by_bands'], df['nodata_value'], df[\n",
    "        'resolution_x_y'], df['bounding_box'] = zip(\n",
    "        *df.apply(lambda x: _get_geotiff_information(x['file_name']), axis=1))\n",
    "\n",
    "    aoi_gdf = gpd.read_file(working_aoi)\n",
    "    aoi_poly = aoi_gdf['geometry'].loc[0]\n",
    "    df['is_in_aoi'] = df.apply(\n",
    "        lambda x: x['bounding_box'].intersects(aoi_poly), axis=1)\n",
    "\n",
    "    if not os.path.exists(output_directory):\n",
    "        os.mkdir(output_directory)\n",
    "\n",
    "    # Save bouding boxes\n",
    "    d = {'file_name': df['file_name'], 'geometry': df['bounding_box']}\n",
    "    gdf = gpd.GeoDataFrame(d, crs=working_crs)\n",
    "    gdf.to_file(os.path.join(output_directory, 'Layers_Bouding_boxes.shp'))\n",
    "\n",
    "    now = utilities.actual_time_for_file_name()\n",
    "    final_name = os.path.join(\n",
    "        output_directory, 'Sanity_Report_' + now + '.xlsx')\n",
    "    df.to_excel(final_name)\n",
    "    print(\"Sanity check completed. Please see the report file %s \" % final_name)\n",
    "\n",
    "\n",
    "def make_abstract_grid_csv(aoi_tif, output_directory):\n",
    "    \"\"\"\n",
    "    Outputs a .csv containing x,y coordinates of all the cells of the AOI rasters (an abstract grid).\n",
    "    Parameters\n",
    "    ----------\n",
    "    aoi_tif : str\n",
    "        path to the aoi geotiff\n",
    "    output_directory : str\n",
    "        path to where the abstract grid will be saved\n",
    "    Returns\n",
    "    -------\n",
    "    grid : str\n",
    "        path to the abstract grid csv\n",
    "    \"\"\"\n",
    "\n",
    "    if not os.path.exists(output_directory):\n",
    "        os.makedirs(output_directory)\n",
    "\n",
    "    grid = os.path.join(output_directory, 'abstract_grid.csv')\n",
    "    if os.path.exists(grid):\n",
    "        os.remove(grid)\n",
    "\n",
    "    utilities.geotiff_to_csv(aoi_tif, grid)\n",
    "\n",
    "    return grid\n",
    "\n",
    "\n",
    "def build_stack_cdf(input_numerical_folder, input_categorical_folder, output_folder, aoi_shapefile, working_crs, x_res, y_res, output_format='csv', ensure_tif_reprojection=True):\n",
    "    \"\"\"\n",
    "    DataWrangle main function. Creates a hypercube csv using NetCDF as internal mechanism for enhanced performances.\n",
    "    Outputs a .csv of the HyperCube.\n",
    "    Parameters\n",
    "    ----------\n",
    "    input_numerical_folder: str\n",
    "        directory containing numerical layers\n",
    "    input_categorical_folder: str\n",
    "        directory containing categorical layers\n",
    "    output_folder : str\n",
    "        directory for the hypercube output\n",
    "    aoi_shapefile: str\n",
    "        path to a shapefile that has a polygon representing the area of interest\n",
    "    working_crs: str\n",
    "        working CRS, per example 'epsg:26921'\n",
    "    x_res: int\n",
    "        x_resolution\n",
    "    y_res: int\n",
    "        y_resolution\n",
    "    output_format : str, default='csv'\n",
    "        Output format for the cube. Available options are 'csv' or 'netCDF'\n",
    "    ensure_tif_reprojection : bool, default = True\n",
    "        Will automatically perform gdal.warp on each of the individual input files to fix unexpected behaviors when it comes to build a VRT. Performance will be decreased but we suggest to keep it this way.\n",
    "    Returns\n",
    "    -------\n",
    "    None\n",
    "    Examples\n",
    "    -------\n",
    "        Build a HyperCube (csv).\n",
    "        >>> datawrangle.build_stack_cdf(input_numerical_folder='input_layers_numerical/', input_categorical_folder='input_layers_categorical/', output_folder='output/', aoi_shapefile='AOI/AOI_2021.shp', working_crs='epsg:31981', x_res=25, y_res=25)\n",
    "    \"\"\"\n",
    "    warnings.warn(\n",
    "        \"This function is deprecated, Please use cube_vrt if this function throws NetCDF errors\", ResourceWarning)\n",
    "    print(\"Processing...\")\n",
    "    # QAQC the output format\n",
    "    formats = ['csv', 'netcdf']\n",
    "    output_format = output_format.lower()\n",
    "    if output_format not in formats:\n",
    "        raise ValueError(\n",
    "            \"Output format you specified is not supported. Supported types : 'csv', 'netcdf'. Processing aborted.\")\n",
    "\n",
    "    # QAQC THE AOI\n",
    "    if(os.path.isfile(aoi_shapefile)):\n",
    "        aoi = gpd.read_file(aoi_shapefile)\n",
    "        if(len(aoi.geom_type) == 0):\n",
    "            print(\"Your AOI shapefile is empty. Processing aborted.\")\n",
    "            return\n",
    "        else:\n",
    "            for t in aoi.geom_type:\n",
    "                if t != 'Polygon':\n",
    "                    print(\n",
    "                        'There is a geometry that is not a polygon in your AOI. Go in QGIS and fix this. Processing aborted.')\n",
    "                    return\n",
    "\n",
    "            for v in aoi['geometry'].is_valid:\n",
    "                if v == False:\n",
    "                    print(\n",
    "                        'There is an invalid geometry in your polygon (self-crossing itself, per example). Go in QGIS and fix this. Processing aborted.')\n",
    "                    return\n",
    "    else:\n",
    "        raise ValueError(\n",
    "            \"The path of the AOI shapefile you provided is wrong. Please double check. Processing aborted.\")\n",
    "\n",
    "    # QAQC if to see if folder provided do exists and are not empty\n",
    "    numeric_files = glob.glob(os.path.join(input_numerical_folder, \"*.tif\"))\n",
    "    if (len(numeric_files) == 0):\n",
    "        raise ValueError(\n",
    "            \"The input NUMERICAL folder path you provided do not contain any geotiffs. Processing aborted.\")\n",
    "\n",
    "    cat_files = glob.glob(os.path.join(input_categorical_folder, \"*.tif\"))\n",
    "    if (len(cat_files) == 0):\n",
    "        raise ValueError(\n",
    "            \"The input CATEGORICAL folder path you provided do not contain any geotiffs. Processing aborted.\")\n",
    "\n",
    "    if(ensure_tif_reprojection == True):\n",
    "        print(\"Reprojecting your numerical files\")\n",
    "        output_folder_numerical_warped = os.path.join(\n",
    "            output_folder, 'datawrangle_reprojected_numerical/')\n",
    "        _reproject_tif_folder(\n",
    "            input_numerical_folder, output_folder_numerical_warped, working_crs, x_res, y_res)\n",
    "        numeric_files = glob.glob(os.path.join(\n",
    "            output_folder_numerical_warped, '*.tif'))\n",
    "\n",
    "        print(\"Reprojecting your categorical files\")\n",
    "        output_folder_categorical_warped = os.path.join(\n",
    "            output_folder, 'datawrangle_reprojected_categorical/')\n",
    "        _reproject_tif_folder(\n",
    "            input_categorical_folder, output_folder_categorical_warped, working_crs, x_res, y_res)\n",
    "        cat_files = glob.glob(os.path.join(\n",
    "            output_folder_categorical_warped, '*.tif'))\n",
    "\n",
    "    print(\"Cubing numerical files...\")\n",
    "    _to_netcdf(numeric_files, os.path.join('temp_numeric_cube.nc'), working_aoi_polygon=aoi_shapefile, working_crs=working_crs,\n",
    "               x_res=x_res, y_res=y_res, resampling_method='cubic', output_type=gdal.GDT_Unknown)\n",
    "    _rename_bands(numeric_files, os.path.join('temp_numeric_cube.nc'))\n",
    "    print(\"Partial numerical cube on {} layers done\".format(len(numeric_files)))\n",
    "\n",
    "    _to_netcdf(cat_files, os.path.join('temp_cat_cube.nc'), working_aoi_polygon=aoi_shapefile, working_crs=working_crs,\n",
    "               x_res=x_res, y_res=y_res, resampling_method='near', output_type=gdal.GDT_Int16)\n",
    "    _rename_bands(cat_files, os.path.join('temp_cat_cube.nc'))\n",
    "    print(\"Partial categorical cube on {} layers done\".format(len(cat_files)))\n",
    "    print(\"merging categorical and numerical features into one...\")\n",
    "\n",
    "    _merge_cubes(os.path.join('renamed_temp_numeric_cube.nc'), os.path.join(\n",
    "        'renamed_temp_cat_cube.nc'), output_folder, output_format)\n",
    "    print(\"Cube creation completed. Cleaning unnecessary files from the disk\")\n",
    "\n",
    "    temp_ncs = [os.path.join('temp_cat_cube.nc'), os.path.join('temp_numeric_cube.nc'), os.path.join(\n",
    "        'renamed_temp_numeric_cube.nc'), os.path.join('renamed_temp_cat_cube.nc')]\n",
    "    for f in temp_ncs:\n",
    "        try:\n",
    "            os.remove(f)\n",
    "        except OSError as e:\n",
    "            print(\"Error: %s : %s\" % (f, e.strerror))\n",
    "\n",
    "    return None\n",
    "\n",
    "\n",
    "def _to_netcdf(input_geotiffs, output_nc, working_aoi_polygon, working_crs, x_res, y_res, resampling_method,\n",
    "               output_type, nodata=-99999):\n",
    "    \"\"\"\n",
    "    Parameters\n",
    "    ----------\n",
    "    output_type: GDAL outputtype used for experientation\n",
    "    input_geotiffs: isolate dinput directory containing only numerical or categorical dataset\n",
    "    output_nc: Output directory\n",
    "    working_aoi_polygon: working area of interest\n",
    "    working_crs: working CRS\n",
    "    x_res: X resolution\n",
    "    y_res: y resolution\n",
    "    resampling_method : resampling method 'near' for categorical dataset and 'cubic' for numerical\n",
    "    nodata: -99999 represents all the null values in the dataset\n",
    "    Returns\n",
    "    -------\n",
    "    individual processed files  with .nc extension in your selected directory\n",
    "    \"\"\"\n",
    "\n",
    "    buildvrt_options = gdal.BuildVRTOptions(xRes=x_res, yRes=y_res, targetAlignedPixels=True, outputSRS=working_crs,\n",
    "                                            VRTNodata=nodata, resampleAlg=resampling_method, separate=True)\n",
    "    one_vrt = gdal.BuildVRT(\n",
    "        destName=\"\", srcDSOrSrcDSTab=input_geotiffs, options=buildvrt_options)\n",
    "    # We Warp it for alignement, resampling, correct CRS and cropping.\n",
    "    warp_options = gdal.WarpOptions(format='NetCDF', xRes=x_res, yRes=y_res, targetAlignedPixels=True,\n",
    "                                    dstSRS=working_crs,\n",
    "                                    cutlineDSName=working_aoi_polygon, resampleAlg=resampling_method,\n",
    "                                    srcNodata=nodata,\n",
    "                                    dstNodata=nodata,\n",
    "                                    outputType=output_type)\n",
    "    warp_output_vrt = gdal.Warp(\n",
    "        srcDSOrSrcDSTab=one_vrt, destNameOrDestDS=output_nc, options=warp_options)\n",
    "\n",
    "    if(warp_output_vrt == None):\n",
    "        print(\"output of gdal.warp() is None. Possible causes are corrupted input files or inputs files not contained in AOI. Processing aborded.\")\n",
    "\n",
    "        return\n",
    "    warp_output_vrt = None\n",
    "    output_nc = None\n",
    "    return\n",
    "\n",
    "\n",
    "def _rename_bands(input_files, nc_file):\n",
    "    # PH's comment : Jan 28 2022. This function could be removed easily and performances would increase drastically also. It is just a matter of finding how to rename \"dimensions\" in rioxarray which I did not knew the week I built datawrangle.\n",
    "\n",
    "    renames = {}\n",
    "    for index, f in enumerate(input_files):\n",
    "        filename, directory, extension = utilities.Path_Info(f)\n",
    "        band_name = 'Band' + str(index + 1)\n",
    "        renames[band_name] = filename\n",
    "    # rename the output_nc step\n",
    "    ds = xarray.open_dataset(nc_file)\n",
    "    x = ds.rename(renames)\n",
    "\n",
    "    x.to_netcdf(os.path.join('renamed_' + nc_file))\n",
    "    ds.close()\n",
    "\n",
    "    return None\n",
    "\n",
    "\n",
    "def _merge_cubes(a, b, output_folder, output_format):\n",
    "    print(\"If merging looks to take forever, restart your kernel and delete the temp files.\")\n",
    "    cube = xarray.open_mfdataset([a, b], parallel=True)\n",
    "    cube = cube.drop_vars(['transverse_mercator'])\n",
    "    print('Merging completed')\n",
    "    now = utilities.actual_time_for_file_name()\n",
    "\n",
    "    if not os.path.exists(output_folder):\n",
    "        os.makedirs(output_folder)\n",
    "\n",
    "    if(output_format == 'csv'):\n",
    "        print(\"Writing ouput CSV, this is the longest step, it may take a while...\")\n",
    "        out_name = os.path.join(output_folder, 'Hypercube_' + now + '.csv')\n",
    "        df = cube.to_dataframe().reset_index()\n",
    "        #     df.drop(columns=['transverse_mercator'], inplace=True)\n",
    "        df.set_index(['x', 'y'], inplace=True)\n",
    "        df = df.dropna(axis=0, how='all')\n",
    "        df.to_csv(out_name, index=True, chunksize=10000)\n",
    "    elif(output_format == 'netcdf'):\n",
    "        print(\"Writing output NetCDF file (nc)...\")\n",
    "        out_name = os.path.join(\n",
    "            output_folder, 'Netcdf_Hypercube_' + now + '.nc')\n",
    "        cube.to_netcdf(out_name)\n",
    "\n",
    "    cube.close()\n",
    "    print(\"Cube built with success.\")\n",
    "    return None\n",
    "\n",
    "\n",
    "def reconstruct_geotiffs_from_cube(input_cube, output_folder, crs, x_field='x', y_field='y', xRes=25, yRes=25):\n",
    "    \"\"\"\n",
    "    QAQC function to create rasters for each column of the HyperCube. The goal is that both the geologist and data scientist could have a look at the resampled, realigned geotiff and confirm the cube is well in shaped and ML work can start.\n",
    "    Parameters\n",
    "    ----------\n",
    "    input_cube : str\n",
    "        path to the input csv of the HyperCube\n",
    "    output_folder : str\n",
    "        directory where to save new output folders\n",
    "    crs : str\n",
    "        crs of the project, example 'epsg:26921'\n",
    "    x_field : str, default='x'\n",
    "        name of the x coordinate column\n",
    "    y_field : str, default='y'\n",
    "        name of the y coordinate column\n",
    "    xRes : int, default=25\n",
    "        x resolution\n",
    "    yRes : int, default=25\n",
    "        y resolution\n",
    "    Returns\n",
    "    -------\n",
    "    None\n",
    "    Examples\n",
    "    --------\n",
    "        Rasterize each column of the cube back to its original geotiff format.\n",
    "        >>> datawrangle.reconstruct_geotiffs_from_cube(input_cube='Netcdf_Hypercube_10-22-2021_1621.csv', output_folder='QAQC_outputs/', crs='epsg:26921', x_field='x', y_field='y', xRes=25, yRes=25)\n",
    "    \"\"\"\n",
    "    # open the dataframe, read only the columns\n",
    "    df = pd.read_csv(input_cube, nrows=2)\n",
    "    cols = df.columns\n",
    "\n",
    "    # get all columns\n",
    "    for col in cols:\n",
    "        if (col != x_field and col != y_field):\n",
    "            print(\"Rebuilding column \" + col)\n",
    "            new_name = 'Rebuilt_from_cube_' + col + '.tif'\n",
    "            output = output_folder + new_name\n",
    "            # utilities.csv_to_raster(input_cube, output,crs, x_field, y_field, col, xRes, yRes)\n",
    "            utilities.csv_to_raster(\n",
    "                input_cube, output, crs, x_field, y_field, col, xRes, yRes)\n",
    "\n",
    "    print('Cube reconstructed. See in ' + output_folder)\n",
    "    return None\n",
    "\n",
    "def get_bands(file_list):\n",
    "    bands = []\n",
    "    for e in file_list:\n",
    "        filename, ext, directory = utilities.Path_Info(e)\n",
    "        bands.append(filename)\n",
    "    return bands\n",
    "\n",
    "def set_band_descriptions(filepath, bands):\n",
    "    \"\"\"\n",
    "    filepath: path/virtual path/uri to raster\n",
    "    bands:    ((band, description), (band, description),...)\n",
    "    \"\"\"\n",
    "    bands_numbers = np.arange(1, len(bands) + 1, 1).tolist()\n",
    "    bands = zip(bands_numbers, bands)\n",
    "    ds = gdal.Open(filepath, gdal.GA_Update)\n",
    "    for band, desc in bands:\n",
    "        rb = ds.GetRasterBand(band)\n",
    "        rb.SetDescription(desc)\n",
    "    del ds\n",
    "\n",
    "def read_vrt_to_df(vrt):\n",
    "    \"\"\" Read a VRT stack into a pandas.DataFrame with x,y coordinates columns\n",
    "    for compatibility with datawrangle.\n",
    "    Parameters\n",
    "    ----------\n",
    "    vrt : str\n",
    "        Path to VRT file to be read.\n",
    "    \"\"\"\n",
    "    xar = rioxarray.open_rasterio(vrt)\n",
    "\n",
    "    if type(xar.attrs[\"long_name\"]) == str:\n",
    "        feats = xar.attrs['long_name']\n",
    "        feats = list(xar.attrs['long_name'])\n",
    "        feats = ''.join(feats)\n",
    "        feats = [feats]\n",
    "    if type(xar.attrs[\"long_name\"]) == tuple:\n",
    "        feats = list(xar.attrs['long_name'])\n",
    "\n",
    "    del xar\n",
    "\n",
    "    # Read data and flatten arrays\n",
    "    with rioxarray.open_rasterio(vrt, masked=True) as ds:\n",
    "        x_coords = ds.coords['x'].values\n",
    "        y_coords = ds.coords['y'].values\n",
    "        data_array = ds.data\n",
    "        l, m, n = data_array.shape\n",
    "        data_flat = np.empty((m * n, l))\n",
    "        for i in range(l):\n",
    "            flat = data_array[i].flatten()\n",
    "            data_flat[:, i] = flat\n",
    "    # Extract coordinates - this imbricated loop oculd be enhanced\n",
    "    i = 0\n",
    "    coords = np.empty((m * n, 2))\n",
    "    for y in y_coords:\n",
    "        for x in x_coords:\n",
    "            coords[i] = [x, y]\n",
    "            i += 1\n",
    "    # Concatenate and write df\n",
    "    final_array = np.concatenate((coords, data_flat), axis=1)\n",
    "    headers = ['x', 'y'] + feats\n",
    "    del data_flat\n",
    "    df = pd.DataFrame(data=final_array, columns=headers)\n",
    "    return df\n",
    "\n",
    "def cube_vrt(input_folders_list, \n",
    "             output_folder, \n",
    "             x_res, \n",
    "             y_res, \n",
    "             working_crs, \n",
    "             working_aoi_polygon, \n",
    "             save_vrt=True, \n",
    "             save_csv=True,\n",
    "             save_columns = True):\n",
    "    \"\"\"\n",
    "    Parameters\n",
    "    ----------\n",
    "    input_folders_list : list\n",
    "        list of list with all folders containing input data\n",
    "    output_folder : str\n",
    "        Given output folder name will be created containing the cube data.\n",
    "    x_res: int\n",
    "        x resolution\n",
    "    y_res: int\n",
    "        y resolution\n",
    "    working_crs : str\n",
    "        working CRS, per example 'epsg:26921'\n",
    "    working_aoi_polygon: str\n",
    "        path to a shapefile that has a polygon representing the area of interest\n",
    "    save_vrt : Boolean\n",
    "        default : True\n",
    "        Saves vrt format of the cube in output folder\n",
    "    save_csv : Boolean\n",
    "        default : True\n",
    "        Saves csv format of the cube in output folder\n",
    "    save_columns : Boolean\n",
    "        default : True\n",
    "        Saves JSON format of the columns names used while buildign the cube\n",
    "    Returns\n",
    "    -------\n",
    "    cube : pandas.DataFrame\n",
    "        resultant cube\n",
    "    Examples\n",
    "    --------\n",
    "    # cube\n",
    "    crs = 'epsg:32733'\n",
    "    x_res = 10\n",
    "    y_res = 10\n",
    "    output_folder = 'project_outputs/'\n",
    "    pred_aoi = 'aoi/Prediction AOI.shp'\n",
    "    geofez_layers = 'prediction_features/geofez/'\n",
    "    haralick_layers = 'prediction_features/unidirectional_w_5_d_1/'\n",
    "    stat_layers = 'prediction_features/stat_features_window_kernel_5_5/'\n",
    "    lbp_layers = 'prediction_features/lbp/'\n",
    "    label_layers = 'prediction_features/labels/'\n",
    "    input_directories = [geofez_layers,haralick_layers,stat_layers,lbp_layers,label_layers]\n",
    "    datawrangle.cube_vrt(input_directories, output_folder, x_res, y_res, crs, pred_aoi, \n",
    "    save_vrt=True, save_csv=True)\n",
    "    \"\"\"\n",
    "        \n",
    "    all_files = []\n",
    "    bands = [] \n",
    "    columns = {}\n",
    "    coord = {'coordinates' : ['x', 'y']} \n",
    "    columns.update(coord)\n",
    "    input_name_list = []\n",
    "    \n",
    "    for f in input_folders_list:\n",
    "        \n",
    "        temp = glob.glob(os.path.join(f, \"*.tif\"))\n",
    "        \n",
    "        for j in temp:\n",
    "            input_name = os.path.basename(j).split('.')[0]\n",
    "            input_name_list.append(input_name)\n",
    "        \n",
    "        if(len(temp) == 0):\n",
    "            raise ValueError(\n",
    "                \"The input folder path %f you provided do not contain any geotiffs. Processing aborted.\" % f)\n",
    "        all_files.extend(temp)\n",
    "        bands.extend(get_bands(temp))\n",
    "        features = {'features' : input_name_list}\n",
    "        \n",
    "    columns.update(features)\n",
    "        \n",
    "    parent = Path(input_folders_list[0]).parent\n",
    "    now = utilities.actual_time_for_file_name()\n",
    "\n",
    "    nodata = -9999\n",
    "    #print(\"There are %s numerical layers and %s categorical layers \"% (str(len(numeric_files)), str(len(cat_files))))\n",
    "\n",
    "    buildvrt_options1 = gdal.BuildVRTOptions(xRes=x_res, yRes=y_res, targetAlignedPixels=True, outputSRS=working_crs,\n",
    "                                             VRTNodata=nodata, resampleAlg='near', separate=True)\n",
    "\n",
    "    combined = os.path.join(parent, \"combined_cat_numeric_vrt_\"+now+\".vrt\")\n",
    "    numerical_vrt = gdal.BuildVRT(\n",
    "        destName=combined, srcDSOrSrcDSTab=all_files, options=buildvrt_options1)\n",
    "    numerical_vrt = None\n",
    "\n",
    "    # change band1 band2 band3 by the real variable name\n",
    "    #bands = get_bands(numeric_files) + get_bands(cat_files)\n",
    "    set_band_descriptions(combined, bands)\n",
    "\n",
    "    warp_options = gdal.WarpOptions(format='vrt', xRes=x_res, yRes=y_res, targetAlignedPixels=True,\n",
    "                                    dstSRS=working_crs,\n",
    "                                    cutlineDSName=working_aoi_polygon, resampleAlg='near',\n",
    "                                    cropToCutline=True,\n",
    "                                    outputType=gdal.GDT_Float32,\n",
    "                                    dstNodata=nodata, copyMetadata=True, multithread=True\n",
    "                                    )\n",
    "\n",
    "    output_vrt = os.path.join(parent, 'hypercube_' + now + '.vrt')\n",
    "    warp_output_vrt = gdal.Warp(\n",
    "        srcDSOrSrcDSTab=combined, destNameOrDestDS=output_vrt, options=warp_options)\n",
    "    warp_output_vrt = None\n",
    "\n",
    "    print('Converting vrt to dataframe... may take a while')\n",
    "        \n",
    "    cube = read_vrt_to_df(output_vrt)\n",
    "    if save_columns:\n",
    "        print('Now writing columns in json')\n",
    "        now = utilities.actual_time_for_file_name()\n",
    "        output_json_name = os.path.join(output_folder, 'columns_' + now + '.json')\n",
    "        with open(os.path.join(output_json_name), 'w') as fp:\n",
    "            json.dump(columns, fp)\n",
    "       \n",
    "    if(save_csv == True):\n",
    "        print('Now writing csv ....... may take a while')\n",
    "        output_cube_name = os.path.join(output_folder, os.path.basename(output_vrt).split('.')[0] + '.csv')\n",
    "        cube.to_csv(output_cube_name, index=False)\n",
    "    else:\n",
    "        print(\"Not saving the cube to csv.\")\n",
    "              \n",
    "    if(save_vrt == False):\n",
    "        os.remove(combined)\n",
    "        os.remove(output_vrt)\n",
    "    else:\n",
    "        print(\"Your hypercube was also saved under .vrt format (two files necessary) in the input data folder : %s \" % parent)\n",
    "\n",
    "    print(\"Cube Creation Completed. \")\n",
    "    return cube, columns\n",
    "\n",
    "def add_features(\n",
    "    current_dataframe,\n",
    "    input_directories,\n",
    "    output_folder,\n",
    "    x_res,\n",
    "    y_res,\n",
    "    crs,\n",
    "    aoi_shapefile,\n",
    "    save_vrt=False,\n",
    "    save_csv=True\n",
    "):\n",
    "    \"\"\"\n",
    "    Add extra features to existing data cube\n",
    "    Example:\n",
    "    trial_name = 'RawBaseline_Amaruq_May29'\n",
    "    input_directories = ['targets/']\n",
    "    output_folder = os.path.join(trial_name, 'outputs/')\n",
    "    x_res = 25\n",
    "    y_res = 25\n",
    "    crs = 'epsg:26914'\n",
    "    aoi_shapefile_amaruq = 'AOI_Amaruq/Amaruq_AOI.shp'\n",
    "    df_combined, columns = datawrangle.add_features(\n",
    "            df_current,    \n",
    "            input_directories,\n",
    "            output_folder, \n",
    "            x_res, \n",
    "            y_res,\n",
    "            crs, \n",
    "            aoi_shapefile_amaruq, \n",
    "            save_vrt=True,\n",
    "            save_csv=False\n",
    "            )\n",
    "    \"\"\"\n",
    "    #TODO: Check/make output folder if it does not exist\n",
    "    df_addition, _ = cube_vrt(\n",
    "        input_directories,\n",
    "        output_folder, \n",
    "        x_res,\n",
    "        y_res,\n",
    "        crs, \n",
    "        aoi_shapefile,\n",
    "        save_vrt=save_vrt, \n",
    "        save_csv=save_csv\n",
    "        )\n",
    "\n",
    "    columns = {}\n",
    "    coord = {'coordinates' : ['x', 'y']} \n",
    "    columns.update(coord)\n",
    "\n",
    "    current_dataframe = pd.merge(current_dataframe, df_addition, on=(columns['coordinates']))\n",
    "\n",
    "    feature_list = current_dataframe.columns[(current_dataframe.columns != 'x') & (current_dataframe.columns != 'y')].to_list()\n",
    "    features = {'features' : feature_list}\n",
    "    columns.update(features)\n",
    "    \n",
    "    print('Now writing columns in json')\n",
    "    now = utilities.actual_time_for_file_name()\n",
    "    output_json_name = os.path.join(output_folder, 'columns_' + now + '.json')\n",
    "    with open(os.path.join(output_json_name), 'w') as fp:\n",
    "        json.dump(columns, fp)  \n",
    "        \n",
    "    if(save_csv == True):\n",
    "        now = utilities.actual_time_for_file_name()\n",
    "        output_cube = os.path.join(output_folder, 'hypercube_' + now + '.csv')\n",
    "        print('Now writing csv ....... may take a while')\n",
    "        current_dataframe.to_csv(output_cube, index=False)\n",
    "        print('Done!')\n",
    "    else:\n",
    "        print(\"Not saving the cube to csv.\")\n",
    "\n",
    "    return current_dataframe, columns"
   ]
  },
  {
   "cell_type": "code",
   "execution_count": 56,
   "id": "223cf092",
   "metadata": {},
   "outputs": [
    {
     "name": "stdout",
     "output_type": "stream",
     "text": [
      "Converting vrt to dataframe... may take a while\n",
      "Now writing columns in json\n",
      "Not saving the cube to csv.\n",
      "Cube Creation Completed. \n"
     ]
    }
   ],
   "source": [
    "input_directories = ['Inputs/Features/Raster/test',\n",
    "                     'Inputs/Targets/Raster/Au'\n",
    "                    ]\n",
    "\n",
    "df_Input, columns = cube_vrt(input_directories, \n",
    "                     output_folder, \n",
    "                     xRes, \n",
    "                     yRes, \n",
    "                     crs, \n",
    "                     AOI, \n",
    "                     save_vrt=False, \n",
    "                     save_csv=False)"
   ]
  },
  {
   "cell_type": "code",
   "execution_count": 57,
   "id": "a7da43a4",
   "metadata": {},
   "outputs": [
    {
     "data": {
      "text/html": [
       "<div>\n",
       "<style scoped>\n",
       "    .dataframe tbody tr th:only-of-type {\n",
       "        vertical-align: middle;\n",
       "    }\n",
       "\n",
       "    .dataframe tbody tr th {\n",
       "        vertical-align: top;\n",
       "    }\n",
       "\n",
       "    .dataframe thead th {\n",
       "        text-align: right;\n",
       "    }\n",
       "</style>\n",
       "<table border=\"1\" class=\"dataframe\">\n",
       "  <thead>\n",
       "    <tr style=\"text-align: right;\">\n",
       "      <th></th>\n",
       "      <th>x</th>\n",
       "      <th>y</th>\n",
       "      <th>Critical_1xd</th>\n",
       "      <th>Critical_1yd</th>\n",
       "      <th>CRE_all_Au_ne_and_pos_raster</th>\n",
       "    </tr>\n",
       "  </thead>\n",
       "  <tbody>\n",
       "    <tr>\n",
       "      <th>0</th>\n",
       "      <td>384727.5</td>\n",
       "      <td>5760787.5</td>\n",
       "      <td>NaN</td>\n",
       "      <td>NaN</td>\n",
       "      <td>NaN</td>\n",
       "    </tr>\n",
       "    <tr>\n",
       "      <th>1</th>\n",
       "      <td>384732.5</td>\n",
       "      <td>5760787.5</td>\n",
       "      <td>NaN</td>\n",
       "      <td>NaN</td>\n",
       "      <td>NaN</td>\n",
       "    </tr>\n",
       "    <tr>\n",
       "      <th>2</th>\n",
       "      <td>384737.5</td>\n",
       "      <td>5760787.5</td>\n",
       "      <td>NaN</td>\n",
       "      <td>NaN</td>\n",
       "      <td>NaN</td>\n",
       "    </tr>\n",
       "    <tr>\n",
       "      <th>3</th>\n",
       "      <td>384742.5</td>\n",
       "      <td>5760787.5</td>\n",
       "      <td>NaN</td>\n",
       "      <td>NaN</td>\n",
       "      <td>NaN</td>\n",
       "    </tr>\n",
       "    <tr>\n",
       "      <th>4</th>\n",
       "      <td>384747.5</td>\n",
       "      <td>5760787.5</td>\n",
       "      <td>NaN</td>\n",
       "      <td>NaN</td>\n",
       "      <td>NaN</td>\n",
       "    </tr>\n",
       "  </tbody>\n",
       "</table>\n",
       "</div>"
      ],
      "text/plain": [
       "          x          y  Critical_1xd  Critical_1yd  \\\n",
       "0  384727.5  5760787.5           NaN           NaN   \n",
       "1  384732.5  5760787.5           NaN           NaN   \n",
       "2  384737.5  5760787.5           NaN           NaN   \n",
       "3  384742.5  5760787.5           NaN           NaN   \n",
       "4  384747.5  5760787.5           NaN           NaN   \n",
       "\n",
       "   CRE_all_Au_ne_and_pos_raster  \n",
       "0                           NaN  \n",
       "1                           NaN  \n",
       "2                           NaN  \n",
       "3                           NaN  \n",
       "4                           NaN  "
      ]
     },
     "execution_count": 57,
     "metadata": {},
     "output_type": "execute_result"
    }
   ],
   "source": [
    "df_Input.head()"
   ]
  },
  {
   "cell_type": "code",
   "execution_count": 58,
   "id": "5f8b293b",
   "metadata": {},
   "outputs": [
    {
     "data": {
      "text/plain": [
       "['x', 'y', 'Critical_1xd', 'Critical_1yd', 'CRE_all_Au_ne_and_pos_raster']"
      ]
     },
     "execution_count": 58,
     "metadata": {},
     "output_type": "execute_result"
    }
   ],
   "source": [
    "df_Input.columns.tolist()"
   ]
  },
  {
   "cell_type": "code",
   "execution_count": 59,
   "id": "8e783def",
   "metadata": {},
   "outputs": [],
   "source": [
    "# Numerical Layers\n",
    "all_numerical = [\n",
    "'Critical_1xd', 'Critical_1yd'\n",
    "                 ]\n",
    "\n",
    "keep_numerical = [\n",
    "'Critical_1xd', 'Critical_1yd'\n",
    "                ]\n",
    "    \n",
    "drop_numerical = [x for x in all_numerical if x not in keep_numerical]\n",
    " \n",
    "# Categorical Layers\n",
    "all_cats = [    \n",
    "           ]\n",
    "\n",
    "keep_cats = [\n",
    "            ]\n",
    "drop_cats = [x for x in all_cats if x not in keep_cats]\n",
    "\n",
    "# Targets       \n",
    "all_targets = [\n",
    "              'CRE_all_Au_ne_and_pos_raster'\n",
    "              ]\n",
    "       \n",
    "#targets_to_keep = ['DDH_Meadowbank_targets_b200','DDH_Meadowbank_targets_b200_target_id']\n",
    "targets_to_keep = ['CRE_all_Au_ne_and_pos_raster']\n",
    "targets_to_drop = [x for x in all_targets if x not in targets_to_keep]\n",
    "target = targets_to_keep[0]\n",
    "#target_group = targets_to_keep[1]\n",
    "#targets = [target, target_group]\n",
    "targets = [target]\n",
    "\n",
    "coords = ['x', 'y']\n",
    "\n",
    "columns = {\n",
    "    'numerical' : keep_numerical,\n",
    "    'categories': keep_cats,\n",
    "    'targets': targets,\n",
    "    'coordinates' : coords\n",
    "}"
   ]
  },
  {
   "cell_type": "code",
   "execution_count": 60,
   "id": "e606f0d3",
   "metadata": {},
   "outputs": [
    {
     "data": {
      "text/html": [
       "<div>\n",
       "<style scoped>\n",
       "    .dataframe tbody tr th:only-of-type {\n",
       "        vertical-align: middle;\n",
       "    }\n",
       "\n",
       "    .dataframe tbody tr th {\n",
       "        vertical-align: top;\n",
       "    }\n",
       "\n",
       "    .dataframe thead th {\n",
       "        text-align: right;\n",
       "    }\n",
       "</style>\n",
       "<table border=\"1\" class=\"dataframe\">\n",
       "  <thead>\n",
       "    <tr style=\"text-align: right;\">\n",
       "      <th></th>\n",
       "      <th>x</th>\n",
       "      <th>y</th>\n",
       "      <th>Critical_1xd</th>\n",
       "      <th>Critical_1yd</th>\n",
       "      <th>CRE_all_Au_ne_and_pos_raster</th>\n",
       "    </tr>\n",
       "  </thead>\n",
       "  <tbody>\n",
       "    <tr>\n",
       "      <th>0</th>\n",
       "      <td>384727.5</td>\n",
       "      <td>5760787.5</td>\n",
       "      <td>NaN</td>\n",
       "      <td>NaN</td>\n",
       "      <td>NaN</td>\n",
       "    </tr>\n",
       "    <tr>\n",
       "      <th>1</th>\n",
       "      <td>384732.5</td>\n",
       "      <td>5760787.5</td>\n",
       "      <td>NaN</td>\n",
       "      <td>NaN</td>\n",
       "      <td>NaN</td>\n",
       "    </tr>\n",
       "    <tr>\n",
       "      <th>2</th>\n",
       "      <td>384737.5</td>\n",
       "      <td>5760787.5</td>\n",
       "      <td>NaN</td>\n",
       "      <td>NaN</td>\n",
       "      <td>NaN</td>\n",
       "    </tr>\n",
       "    <tr>\n",
       "      <th>3</th>\n",
       "      <td>384742.5</td>\n",
       "      <td>5760787.5</td>\n",
       "      <td>NaN</td>\n",
       "      <td>NaN</td>\n",
       "      <td>NaN</td>\n",
       "    </tr>\n",
       "    <tr>\n",
       "      <th>4</th>\n",
       "      <td>384747.5</td>\n",
       "      <td>5760787.5</td>\n",
       "      <td>NaN</td>\n",
       "      <td>NaN</td>\n",
       "      <td>NaN</td>\n",
       "    </tr>\n",
       "  </tbody>\n",
       "</table>\n",
       "</div>"
      ],
      "text/plain": [
       "          x          y  Critical_1xd  Critical_1yd  \\\n",
       "0  384727.5  5760787.5           NaN           NaN   \n",
       "1  384732.5  5760787.5           NaN           NaN   \n",
       "2  384737.5  5760787.5           NaN           NaN   \n",
       "3  384742.5  5760787.5           NaN           NaN   \n",
       "4  384747.5  5760787.5           NaN           NaN   \n",
       "\n",
       "   CRE_all_Au_ne_and_pos_raster  \n",
       "0                           NaN  \n",
       "1                           NaN  \n",
       "2                           NaN  \n",
       "3                           NaN  \n",
       "4                           NaN  "
      ]
     },
     "execution_count": 60,
     "metadata": {},
     "output_type": "execute_result"
    }
   ],
   "source": [
    "cube = hypercube.HyperCube(input_data=df_Input, x_field='x', y_field='y', crs=crs)\n",
    "cube.df.head()"
   ]
  },
  {
   "cell_type": "code",
   "execution_count": 61,
   "id": "d9d29bcc",
   "metadata": {},
   "outputs": [
    {
     "data": {
      "text/plain": [
       "[]"
      ]
     },
     "execution_count": 61,
     "metadata": {},
     "output_type": "execute_result"
    }
   ],
   "source": [
    "columns_to_drop = drop_numerical + drop_cats + targets_to_drop\n",
    "columns_to_drop"
   ]
  },
  {
   "cell_type": "code",
   "execution_count": 62,
   "id": "062b5d98",
   "metadata": {},
   "outputs": [
    {
     "data": {
      "text/html": [
       "<div>\n",
       "<style scoped>\n",
       "    .dataframe tbody tr th:only-of-type {\n",
       "        vertical-align: middle;\n",
       "    }\n",
       "\n",
       "    .dataframe tbody tr th {\n",
       "        vertical-align: top;\n",
       "    }\n",
       "\n",
       "    .dataframe thead th {\n",
       "        text-align: right;\n",
       "    }\n",
       "</style>\n",
       "<table border=\"1\" class=\"dataframe\">\n",
       "  <thead>\n",
       "    <tr style=\"text-align: right;\">\n",
       "      <th></th>\n",
       "      <th>x</th>\n",
       "      <th>y</th>\n",
       "      <th>Critical_1xd</th>\n",
       "      <th>Critical_1yd</th>\n",
       "      <th>CRE_all_Au_ne_and_pos_raster</th>\n",
       "    </tr>\n",
       "  </thead>\n",
       "  <tbody>\n",
       "    <tr>\n",
       "      <th>0</th>\n",
       "      <td>384727.5</td>\n",
       "      <td>5760787.5</td>\n",
       "      <td>NaN</td>\n",
       "      <td>NaN</td>\n",
       "      <td>NaN</td>\n",
       "    </tr>\n",
       "    <tr>\n",
       "      <th>1</th>\n",
       "      <td>384732.5</td>\n",
       "      <td>5760787.5</td>\n",
       "      <td>NaN</td>\n",
       "      <td>NaN</td>\n",
       "      <td>NaN</td>\n",
       "    </tr>\n",
       "    <tr>\n",
       "      <th>2</th>\n",
       "      <td>384737.5</td>\n",
       "      <td>5760787.5</td>\n",
       "      <td>NaN</td>\n",
       "      <td>NaN</td>\n",
       "      <td>NaN</td>\n",
       "    </tr>\n",
       "    <tr>\n",
       "      <th>3</th>\n",
       "      <td>384742.5</td>\n",
       "      <td>5760787.5</td>\n",
       "      <td>NaN</td>\n",
       "      <td>NaN</td>\n",
       "      <td>NaN</td>\n",
       "    </tr>\n",
       "    <tr>\n",
       "      <th>4</th>\n",
       "      <td>384747.5</td>\n",
       "      <td>5760787.5</td>\n",
       "      <td>NaN</td>\n",
       "      <td>NaN</td>\n",
       "      <td>NaN</td>\n",
       "    </tr>\n",
       "  </tbody>\n",
       "</table>\n",
       "</div>"
      ],
      "text/plain": [
       "          x          y  Critical_1xd  Critical_1yd  \\\n",
       "0  384727.5  5760787.5           NaN           NaN   \n",
       "1  384732.5  5760787.5           NaN           NaN   \n",
       "2  384737.5  5760787.5           NaN           NaN   \n",
       "3  384742.5  5760787.5           NaN           NaN   \n",
       "4  384747.5  5760787.5           NaN           NaN   \n",
       "\n",
       "   CRE_all_Au_ne_and_pos_raster  \n",
       "0                           NaN  \n",
       "1                           NaN  \n",
       "2                           NaN  \n",
       "3                           NaN  \n",
       "4                           NaN  "
      ]
     },
     "execution_count": 62,
     "metadata": {},
     "output_type": "execute_result"
    }
   ],
   "source": [
    "cube.df = cube.df.drop(columns=columns_to_drop)\n",
    "cube.df.head()"
   ]
  },
  {
   "cell_type": "code",
   "execution_count": 63,
   "id": "27e6f670",
   "metadata": {},
   "outputs": [
    {
     "data": {
      "text/plain": [
       "Index(['x', 'y', 'Critical_1xd', 'Critical_1yd',\n",
       "       'CRE_all_Au_ne_and_pos_raster'],\n",
       "      dtype='object')"
      ]
     },
     "execution_count": 63,
     "metadata": {},
     "output_type": "execute_result"
    }
   ],
   "source": [
    "cube.df.columns"
   ]
  },
  {
   "cell_type": "code",
   "execution_count": 64,
   "id": "ccd8c07d",
   "metadata": {},
   "outputs": [
    {
     "data": {
      "text/plain": [
       "{'numerical': ['Critical_1xd', 'Critical_1yd'],\n",
       " 'categories': [],\n",
       " 'targets': ['CRE_all_Au_ne_and_pos_raster'],\n",
       " 'coordinates': ['x', 'y']}"
      ]
     },
     "execution_count": 64,
     "metadata": {},
     "output_type": "execute_result"
    }
   ],
   "source": [
    "cube.columns_dict = columns\n",
    "cube.columns_dict"
   ]
  },
  {
   "cell_type": "code",
   "execution_count": 65,
   "id": "dc7b487d",
   "metadata": {},
   "outputs": [
    {
     "data": {
      "text/plain": [
       "x                                float64\n",
       "y                                float64\n",
       "Critical_1xd                     float64\n",
       "Critical_1yd                     float64\n",
       "CRE_all_Au_ne_and_pos_raster    category\n",
       "dtype: object"
      ]
     },
     "execution_count": 65,
     "metadata": {},
     "output_type": "execute_result"
    }
   ],
   "source": [
    "for i in cube.columns_dict['categories']:\n",
    "    cube.df[str(i)] = pd.Categorical(cube.df[str(i)])\n",
    "    cube.df[str(i)] = cube.df[str(i)].apply(np.int64)\n",
    "\n",
    "for i in cube.columns_dict['targets']:\n",
    "    cube.df[str(i)] = pd.Categorical(cube.df[str(i)])\n",
    "    cube.df[str(i)] = cube.df[str(i)].apply(np.int64)\n",
    "\n",
    "cube.df.dtypes"
   ]
  },
  {
   "cell_type": "code",
   "execution_count": 66,
   "id": "3aa93712",
   "metadata": {},
   "outputs": [
    {
     "name": "stdout",
     "output_type": "stream",
     "text": [
      "<class 'pandas.core.frame.DataFrame'>\n",
      "RangeIndex: 358840498 entries, 0 to 358840497\n",
      "Data columns (total 5 columns):\n",
      " #   Column                        Non-Null Count      Dtype   \n",
      "---  ------                        --------------      -----   \n",
      " 0   x                             358840498 non-null  float64 \n",
      " 1   y                             358840498 non-null  float64 \n",
      " 2   Critical_1xd                  21742025 non-null   float64 \n",
      " 3   Critical_1yd                  21742025 non-null   float64 \n",
      " 4   CRE_all_Au_ne_and_pos_raster  7228 non-null       category\n",
      "dtypes: category(1), float64(4)\n",
      "memory usage: 11.0 GB\n"
     ]
    }
   ],
   "source": [
    "cube.summary()"
   ]
  },
  {
   "cell_type": "code",
   "execution_count": 67,
   "id": "1ba46866",
   "metadata": {},
   "outputs": [
    {
     "name": "stdout",
     "output_type": "stream",
     "text": [
      "Critical_1xd's null rate :93.94103%\n",
      "Critical_1yd's null rate :93.94103%\n",
      "CRE_all_Au_ne_and_pos_raster's null rate :99.99799%\n"
     ]
    }
   ],
   "source": [
    "# Percentage of null values\n",
    "cube.show_nan_percentage()"
   ]
  },
  {
   "cell_type": "code",
   "execution_count": 68,
   "id": "b605bfeb",
   "metadata": {},
   "outputs": [],
   "source": [
    "subsets = ['numerical', 'categories']\n",
    "for subset in subsets: cube.dropna(subset=subset)"
   ]
  },
  {
   "cell_type": "code",
   "execution_count": 69,
   "id": "f224ff13",
   "metadata": {},
   "outputs": [
    {
     "name": "stdout",
     "output_type": "stream",
     "text": [
      "CRE_all_Au_ne_and_pos_raster's null rate :99.97721%\n"
     ]
    }
   ],
   "source": [
    "# Percentage of null values\n",
    "cube.show_nan_percentage()"
   ]
  },
  {
   "cell_type": "code",
   "execution_count": 70,
   "id": "a0e14b28",
   "metadata": {},
   "outputs": [
    {
     "name": "stdout",
     "output_type": "stream",
     "text": [
      "<class 'pandas.core.frame.DataFrame'>\n",
      "Int64Index: 21742025 entries, 40804394 to 306634301\n",
      "Data columns (total 5 columns):\n",
      " #   Column                        Non-Null Count     Dtype   \n",
      "---  ------                        --------------     -----   \n",
      " 0   x                             21742025 non-null  float64 \n",
      " 1   y                             21742025 non-null  float64 \n",
      " 2   Critical_1xd                  21742025 non-null  float64 \n",
      " 3   Critical_1yd                  21742025 non-null  float64 \n",
      " 4   CRE_all_Au_ne_and_pos_raster  4956 non-null      category\n",
      "dtypes: category(1), float64(4)\n",
      "memory usage: 850.1 MB\n"
     ]
    }
   ],
   "source": [
    "cube.to_object(columns['categories'])\n",
    "cube.summary()"
   ]
  },
  {
   "cell_type": "code",
   "execution_count": 71,
   "id": "0fbb824e",
   "metadata": {},
   "outputs": [],
   "source": [
    "X, y = cube.getRowsWithLabelOnly(subsets=['numerical', 'categories'], target=target)\n",
    "#groups = cube.df[target_group].dropna()\n",
    "#groups = cube.df[cube.df[target].notnull()][target_group]\n",
    "#groups"
   ]
  },
  {
   "cell_type": "code",
   "execution_count": 72,
   "id": "90b6a2d5",
   "metadata": {},
   "outputs": [
    {
     "data": {
      "text/plain": [
       "(21742025, 2)"
      ]
     },
     "execution_count": 72,
     "metadata": {},
     "output_type": "execute_result"
    }
   ],
   "source": [
    "all_X = cube.subset(['numerical', 'categories'])\n",
    "all_X.shape"
   ]
  },
  {
   "cell_type": "code",
   "execution_count": 73,
   "id": "ed04ee03",
   "metadata": {},
   "outputs": [
    {
     "data": {
      "text/plain": [
       "(4956, 2)"
      ]
     },
     "execution_count": 73,
     "metadata": {},
     "output_type": "execute_result"
    }
   ],
   "source": [
    "X.shape"
   ]
  },
  {
   "cell_type": "code",
   "execution_count": 74,
   "id": "41b01cec",
   "metadata": {},
   "outputs": [
    {
     "data": {
      "text/plain": [
       "(4956,)"
      ]
     },
     "execution_count": 74,
     "metadata": {},
     "output_type": "execute_result"
    }
   ],
   "source": [
    "y.shape"
   ]
  },
  {
   "cell_type": "code",
   "execution_count": 75,
   "id": "8b2b8147",
   "metadata": {},
   "outputs": [
    {
     "data": {
      "text/plain": [
       "(array([0, 1], dtype=int32), array([4856,  100]))"
      ]
     },
     "execution_count": 75,
     "metadata": {},
     "output_type": "execute_result"
    }
   ],
   "source": [
    "np.unique(y.values, return_counts = True)"
   ]
  },
  {
   "cell_type": "code",
   "execution_count": 76,
   "id": "212f74ad",
   "metadata": {},
   "outputs": [],
   "source": [
    "# StratifiedGroupKFold\n",
    "#group_kfold = StratifiedGroupKFold(n_splits=3)\n",
    "#for train_index, test_index in group_kfold.split(X, y, groups):\n",
    "#    X_train, X_test = X.iloc[train_index], X.iloc[test_index]\n",
    "#    y_train, y_test = y.iloc[train_index], y.iloc[test_index]\n",
    "#    groups_train, groups_test = groups.iloc[train_index], groups.iloc[test_index]\n",
    "\n",
    "# GroupKFold\n",
    "#group_kfold = GroupKFold(n_splits=5)\n",
    "#for train_index, test_index in group_kfold.split(X, y, groups):\n",
    "#    X_train, X_test = X[train_index], X[test_index]\n",
    "#    y_train, y_test = y[train_index], y[test_index]\n",
    "#    groups_train, groups_test = groups.iloc[train_index], groups.iloc[test_index]    \n",
    "     \n",
    "# Random Splitting\n",
    "from sklearn.model_selection import train_test_split\n",
    "X_train, X_test, y_train, y_test = train_test_split(X, y, test_size = 0.20, stratify=y, random_state = random_state)\n"
   ]
  },
  {
   "cell_type": "code",
   "execution_count": 77,
   "id": "2d147fb9",
   "metadata": {},
   "outputs": [
    {
     "name": "stderr",
     "output_type": "stream",
     "text": [
      "\u001b[32m[I 2022-08-03 20:48:44,455]\u001b[0m A new study created in memory with name: CatBoost_study\u001b[0m\n"
     ]
    },
    {
     "name": "stdout",
     "output_type": "stream",
     "text": [
      "{'random_state': 42, 'iterations': 144, 'depth': 10, 'learning_rate': 0.09454306819536169, 'random_strength': 60, 'bagging_temperature': 0.04207988669606638, 'od_type': 'IncToDec', 'od_wait': 45}\n"
     ]
    },
    {
     "name": "stderr",
     "output_type": "stream",
     "text": [
      "\u001b[32m[I 2022-08-03 20:48:51,620]\u001b[0m Trial 0 finished with value: 0.6567809135763039 and parameters: {'iterations': 144, 'depth': 10, 'learning_rate': 0.09454306819536169, 'random_strength': 60, 'bagging_temperature': 0.04207988669606638, 'od_type': 'IncToDec', 'od_wait': 45}. Best is trial 0 with value: 0.6567809135763039.\u001b[0m\n"
     ]
    },
    {
     "name": "stdout",
     "output_type": "stream",
     "text": [
      "{'random_state': 42, 'iterations': 200, 'depth': 8, 'learning_rate': 0.001136467270001117, 'random_strength': 97, 'bagging_temperature': 21.368329072358772, 'od_type': 'IncToDec', 'od_wait': 17}\n"
     ]
    },
    {
     "name": "stderr",
     "output_type": "stream",
     "text": [
      "\u001b[32m[I 2022-08-03 20:48:55,612]\u001b[0m Trial 1 finished with value: 0.6272512204857692 and parameters: {'iterations': 200, 'depth': 8, 'learning_rate': 0.001136467270001117, 'random_strength': 97, 'bagging_temperature': 21.368329072358772, 'od_type': 'IncToDec', 'od_wait': 17}. Best is trial 0 with value: 0.6567809135763039.\u001b[0m\n",
      "\u001b[32m[I 2022-08-03 20:48:57,131]\u001b[0m A new study created in memory with name: LGBM_study\u001b[0m\n"
     ]
    },
    {
     "name": "stdout",
     "output_type": "stream",
     "text": [
      "Trained models saved in ProgressBarTest/outputs/models/ \n",
      "{'boosting_type': 'dart', 'num_leaves': 184, 'min_data': 73, 'max_depth': 34, 'reg_alpha': 0.05808361216819946, 'reg_lambda': 0.8661761457749352, 'learning_rate': 0.0006440507553993703, 'random_state': 42, 'drop_rate': 0.004619347374377372, 'skip_drop': 1.4610865886287176e-08}\n"
     ]
    },
    {
     "name": "stderr",
     "output_type": "stream",
     "text": [
      "\u001b[32m[I 2022-08-03 20:48:58,642]\u001b[0m Trial 0 finished with value: 0.580464041273698 and parameters: {'clf__bosting_type': 'dart', 'clf__num_leaves': 184, 'clf__min_data': 73, 'clf__max_depth': 34, 'clf__reg_alpha': 0.05808361216819946, 'clf__reg_lambda': 0.8661761457749352, 'clf__learning_rate': 0.0006440507553993703, 'drop_rate': 0.004619347374377372, 'skip_drop': 1.4610865886287176e-08}. Best is trial 0 with value: 0.580464041273698.\u001b[0m\n"
     ]
    },
    {
     "name": "stdout",
     "output_type": "stream",
     "text": [
      "{'boosting_type': 'gbdt', 'num_leaves': 62, 'min_data': 77, 'max_depth': 63, 'reg_alpha': 0.5247564316322378, 'reg_lambda': 0.43194501864211576, 'learning_rate': 2.1371407316372935e-06, 'random_state': 42}\n"
     ]
    },
    {
     "name": "stderr",
     "output_type": "stream",
     "text": [
      "\u001b[32m[I 2022-08-03 20:49:00,147]\u001b[0m Trial 1 finished with value: 0.019737892523862873 and parameters: {'clf__bosting_type': 'gbdt', 'clf__num_leaves': 62, 'clf__min_data': 77, 'clf__max_depth': 63, 'clf__reg_alpha': 0.5247564316322378, 'clf__reg_lambda': 0.43194501864211576, 'clf__learning_rate': 2.1371407316372935e-06}. Best is trial 0 with value: 0.580464041273698.\u001b[0m\n"
     ]
    },
    {
     "name": "stdout",
     "output_type": "stream",
     "text": [
      "[LightGBM] [Warning] min_data_in_leaf is set with min_data=73, min_child_samples=20 will be ignored. Current value: min_data_in_leaf=73\n"
     ]
    },
    {
     "name": "stderr",
     "output_type": "stream",
     "text": [
      "\u001b[32m[I 2022-08-03 20:50:50,617]\u001b[0m A new study created in memory with name: SVM_study\u001b[0m\n"
     ]
    },
    {
     "name": "stdout",
     "output_type": "stream",
     "text": [
      "Trained models saved in ProgressBarTest/outputs/models/ \n",
      "{'random_state': 42, 'probability': True, 'C': 0.17565327456519703, 'gamma': 517.0952091522892, 'kernel': 'rbf'}\n"
     ]
    },
    {
     "name": "stderr",
     "output_type": "stream",
     "text": [
      "\u001b[32m[I 2022-08-03 20:50:59,542]\u001b[0m Trial 0 finished with value: 0.6771565757119657 and parameters: {'C': 0.17565327456519703, 'gamma': 517.0952091522892, 'kernel': 'rbf'}. Best is trial 0 with value: 0.6771565757119657.\u001b[0m\n"
     ]
    },
    {
     "name": "stdout",
     "output_type": "stream",
     "text": [
      "{'random_state': 42, 'probability': True, 'C': 0.002184732321248571, 'gamma': 160.1769690624375, 'kernel': 'sigmoid'}\n"
     ]
    },
    {
     "name": "stderr",
     "output_type": "stream",
     "text": [
      "\u001b[32m[I 2022-08-03 20:51:10,829]\u001b[0m Trial 1 finished with value: 0.132800818204888 and parameters: {'C': 0.002184732321248571, 'gamma': 160.1769690624375, 'kernel': 'sigmoid'}. Best is trial 0 with value: 0.6771565757119657.\u001b[0m\n",
      "\u001b[32m[I 2022-08-03 20:51:22,474]\u001b[0m A new study created in memory with name: RandomForest_study\u001b[0m\n"
     ]
    },
    {
     "name": "stdout",
     "output_type": "stream",
     "text": [
      "Trained models saved in ProgressBarTest/outputs/models/ \n",
      "{'n_estimators': 874, 'max_features': 'auto', 'max_depth': 64, 'min_samples_split': 3, 'min_samples_leaf': 1, 'bootstrap': False, 'random_state': 42}\n"
     ]
    },
    {
     "name": "stderr",
     "output_type": "stream",
     "text": [
      "\u001b[32m[I 2022-08-03 20:51:29,206]\u001b[0m Trial 0 finished with value: 0.6960150188918396 and parameters: {'n_estimators': 874, 'max_features': 'auto', 'max_depth': 64, 'min_samples_split': 3, 'min_samples_leaf': 1, 'bootstrap': False}. Best is trial 0 with value: 0.6960150188918396.\u001b[0m\n"
     ]
    },
    {
     "name": "stdout",
     "output_type": "stream",
     "text": [
      "{'n_estimators': 1282, 'max_features': 'auto', 'max_depth': 98, 'min_samples_split': 9, 'min_samples_leaf': 2, 'bootstrap': False, 'random_state': 42}\n"
     ]
    },
    {
     "name": "stderr",
     "output_type": "stream",
     "text": [
      "\u001b[32m[I 2022-08-03 20:51:38,694]\u001b[0m Trial 1 finished with value: 0.6980709689674419 and parameters: {'n_estimators': 1282, 'max_features': 'auto', 'max_depth': 98, 'min_samples_split': 9, 'min_samples_leaf': 2, 'bootstrap': False}. Best is trial 1 with value: 0.6980709689674419.\u001b[0m\n"
     ]
    },
    {
     "name": "stdout",
     "output_type": "stream",
     "text": [
      "Trained models saved in ProgressBarTest/outputs/models/ \n"
     ]
    }
   ],
   "source": [
    "n_trials = 2\n",
    "numeric_cols = columns['numerical']\n",
    "#cat_indexes = cube.GetCatFeaturesIndexes(X_train)\n",
    "cat_indexes = None\n",
    "models = ['CatBoost','LGBM','SVM','RandomForest']\n",
    "#models = ['XGBoost']\n",
    "#cross_validation = StratifiedGroupKFold(n_splits=5)\n",
    "#cross_validation = GroupKFold(n_splits=5)\n",
    "cross_validation = KFold(n_splits=5)\n",
    "\n",
    "hyperparameterstuning.Optimizer(n_trials, models, output_folder, numeric_cols, cat_indexes, X_train, y_train,\n",
    "      cv = cross_validation, groups = None, scoring='f1_macro', random_state=random_state)"
   ]
  },
  {
   "cell_type": "code",
   "execution_count": 80,
   "id": "74682f6e",
   "metadata": {
    "scrolled": false
   },
   "outputs": [
    {
     "name": "stdout",
     "output_type": "stream",
     "text": [
      "SVM_bestpipeline_fitted_model\n",
      "CatBoost_bestpipeline_fitted_model\n"
     ]
    },
    {
     "data": {
      "image/png": "[encoded data removed]",
      "text/plain": [
       "<Figure size 720x720 with 1 Axes>"
      ]
     },
     "metadata": {},
     "output_type": "display_data"
    },
    {
     "data": {
      "image/png": "[encoded data removed]",
      "text/plain": [
       "<Figure size 720x720 with 1 Axes>"
      ]
     },
     "metadata": {},
     "output_type": "display_data"
    },
    {
     "data": {
      "image/png": "[encoded data removed]",
      "text/plain": [
       "<Figure size 1080x792 with 1 Axes>"
      ]
     },
     "metadata": {},
     "output_type": "display_data"
    },
    {
     "data": {
      "image/png": "[encoded data removed]",
      "text/plain": [
       "<Figure size 1080x792 with 1 Axes>"
      ]
     },
     "metadata": {},
     "output_type": "display_data"
    },
    {
     "name": "stdout",
     "output_type": "stream",
     "text": [
      "LGBM_bestpipeline_fitted_model\n"
     ]
    },
    {
     "data": {
      "image/png": "[encoded data removed]",
      "text/plain": [
       "<Figure size 720x720 with 1 Axes>"
      ]
     },
     "metadata": {},
     "output_type": "display_data"
    },
    {
     "data": {
      "image/png": "[encoded data removed]",
      "text/plain": [
       "<Figure size 720x720 with 1 Axes>"
      ]
     },
     "metadata": {},
     "output_type": "display_data"
    },
    {
     "data": {
      "image/png": "[encoded data removed]",
      "text/plain": [
       "<Figure size 1080x792 with 1 Axes>"
      ]
     },
     "metadata": {},
     "output_type": "display_data"
    },
    {
     "data": {
      "image/png": "[encoded data removed]",
      "text/plain": [
       "<Figure size 1080x792 with 1 Axes>"
      ]
     },
     "metadata": {},
     "output_type": "display_data"
    },
    {
     "name": "stdout",
     "output_type": "stream",
     "text": [
      "RandomForest_bestpipeline_fitted_model\n"
     ]
    },
    {
     "data": {
      "image/png": "[encoded data removed]",
      "text/plain": [
       "<Figure size 720x720 with 1 Axes>"
      ]
     },
     "metadata": {},
     "output_type": "display_data"
    },
    {
     "data": {
      "image/png": "[encoded data removed]",
      "text/plain": [
       "<Figure size 720x720 with 1 Axes>"
      ]
     },
     "metadata": {},
     "output_type": "display_data"
    },
    {
     "data": {
      "image/png": "[encoded data removed]",
      "text/plain": [
       "<Figure size 1080x792 with 1 Axes>"
      ]
     },
     "metadata": {},
     "output_type": "display_data"
    },
    {
     "data": {
      "image/png": "[encoded data removed]",
      "text/plain": [
       "<Figure size 1080x792 with 1 Axes>"
      ]
     },
     "metadata": {},
     "output_type": "display_data"
    }
   ],
   "source": [
    "best_fitted_models = hyperparameterstuning.loadJobsFromFolder(output_folder+\"/models/\")\n",
    "metrics = {}\n",
    "\n",
    "for model in best_fitted_models.keys():\n",
    "    print(model)\n",
    "    model_path = output_folder + 'models/' + f'{model}.joblib'\n",
    "    \n",
    "        \n",
    "    if model == 'CatBoost_bestpipeline_fitted_model':\n",
    "        CatBoost_bestpipeline_fitted_model = load(model_path)\n",
    "        fe.plot_feature_importance(CatBoost_bestpipeline_fitted_model,\n",
    "                          output_directory=CatBoost_predictions_folder, \n",
    "                          title= 'CatBoost_Feature_Importances_Combined.png')\n",
    "        fe.plot_feature_importance(CatBoost_bestpipeline_fitted_model,\n",
    "                          combine_cat_class_importances = False,\n",
    "                          output_directory=CatBoost_predictions_folder, \n",
    "                          title= 'CatBoost_Feature_Importances_Individual.png')\n",
    "                \n",
    "        fe.plot_permutation_importance(CatBoost_bestpipeline_fitted_model, X_train, y_train, output_directory=CatBoost_predictions_folder, \n",
    "                            title= 'CatBoost_Permutation_Importances_Train_Set')\n",
    "        fe.plot_permutation_importance(CatBoost_bestpipeline_fitted_model, X_test, y_test, output_directory=CatBoost_predictions_folder, \n",
    "                            title= 'CatBoost_Permutation_Importances_Test_Set')\n",
    "        \n",
    "        # Predictions on the test set\n",
    "        y_pred = CatBoost_bestpipeline_fitted_model.predict(X_test)\n",
    "        f1 = f1_score(y_test, y_pred, average=\"macro\")\n",
    "        prec = precision_score(y_test, y_pred, average=\"macro\")\n",
    "        acc = accuracy_score(y_test, y_pred)\n",
    "        recall = recall_score(y_test, y_pred, average='macro')\n",
    "        metrics[\"CatBoost\"] = {\"f1\": f1, \"Precision\": prec, \"Recall\":recall, \"Accuracy\":acc}\n",
    "        \n",
    "\n",
    "        \n",
    "    if model == 'XGBoost_bestpipeline_fitted_model':\n",
    "        XGBoost_bestpipeline_fitted_model = load(model_path)\n",
    "        fe.plot_feature_importance(XGBoost_bestpipeline_fitted_model,\n",
    "                          output_directory=XGBoost_predictions_folder, \n",
    "                          title= 'XGBoost_Feature_Importances_Combined.png')\n",
    "        fe.plot_feature_importance(XGBoost_bestpipeline_fitted_model,\n",
    "                          combine_cat_class_importances = False,\n",
    "                          output_directory=XGBoost_predictions_folder, \n",
    "                          title= 'XGBoost_Feature_Importances_Individual.png')\n",
    "\n",
    "        fe.plot_permutation_importance(XGBoost_bestpipeline_fitted_model, X_train, y_train, output_directory=XGBoost_predictions_folder, \n",
    "                            title= 'XGBoost_Permutation_Importances_Train_Set')\n",
    "        fe.plot_permutation_importance(XGBoost_bestpipeline_fitted_model, X_test, y_test, output_directory=XGBoost_predictions_folder, \n",
    "                            title= 'XGBoost_Permutation_Importances_Test_Set')\n",
    "        \n",
    "        # Predictions on the test set\n",
    "        y_pred = XGBoost_bestpipeline_fitted_model.predict(X_test)\n",
    "        f1 = f1_score(y_test, y_pred, average=\"macro\")\n",
    "        prec = precision_score(y_test, y_pred, average=\"macro\")\n",
    "        acc = accuracy_score(y_test, y_pred)\n",
    "        recall = recall_score(y_test, y_pred, average='macro')\n",
    "        metrics[\"XGBoost\"] = {\"f1\": f1, \"Precision\": prec, \"Recall\":recall, \"Accuracy\":acc}\n",
    "        \n",
    "    if model == 'LGBM_bestpipeline_fitted_model':\n",
    "        LGBM_bestpipeline_fitted_model = load(model_path)\n",
    "        \n",
    "        fe.plot_feature_importance(LGBM_bestpipeline_fitted_model,\n",
    "                          output_directory=LGBM_predictions_folder, \n",
    "                          title= 'LGBM_Feature_Importances_Combined.png')\n",
    "        fe.plot_feature_importance(LGBM_bestpipeline_fitted_model,\n",
    "                          combine_cat_class_importances = False,\n",
    "                          output_directory=LGBM_predictions_folder, \n",
    "                          title= 'LGBM_Feature_Importances_Individual.png') \n",
    "        \n",
    "        fe.plot_permutation_importance(LGBM_bestpipeline_fitted_model, X_train, y_train, output_directory=LGBM_predictions_folder, \n",
    "                            title= 'LGBM_Permutation_Importances_Train_Set')\n",
    "        fe.plot_permutation_importance(LGBM_bestpipeline_fitted_model, X_test, y_test, output_directory=LGBM_predictions_folder, \n",
    "                            title= 'LGBM_Permutation_Importances_Test_Set')\n",
    "        \n",
    "        # Predictions on the test set\n",
    "        y_pred = LGBM_bestpipeline_fitted_model.predict(X_test)\n",
    "        f1 = f1_score(y_test, y_pred, average=\"macro\")\n",
    "        prec = precision_score(y_test, y_pred, average=\"macro\")\n",
    "        acc = accuracy_score(y_test, y_pred)\n",
    "        recall = recall_score(y_test, y_pred, average='macro')\n",
    "        metrics[\"LGBM\"] = {\"f1\": f1, \"Precision\": prec, \"Recall\":recall, \"Accuracy\":acc}\n",
    "              \n",
    "    if model == 'RandomForest_bestpipeline_fitted_model':\n",
    "        RandomForest_bestpipeline_fitted_model = load(model_path)\n",
    "        \n",
    "        fe.plot_feature_importance(RandomForest_bestpipeline_fitted_model,\n",
    "                          output_directory=RF_predictions_folder, \n",
    "                          title= 'RF_Feature_Importances_Combined.png')\n",
    "        fe.plot_feature_importance(RandomForest_bestpipeline_fitted_model,\n",
    "                          combine_cat_class_importances = False,\n",
    "                          output_directory=RF_predictions_folder, \n",
    "                          title= 'RF_Feature_Importances_Individual.png')\n",
    "        \n",
    "        fe.plot_permutation_importance(RandomForest_bestpipeline_fitted_model, X_train, y_train, output_directory=RF_predictions_folder, \n",
    "                            title= 'RF_Permutation_Importances_Train_Set')\n",
    "        fe.plot_permutation_importance(RandomForest_bestpipeline_fitted_model, X_test, y_test, output_directory=RF_predictions_folder, \n",
    "                            title= 'RF_Permutation_Importances_Test_Set')\n",
    "        \n",
    "        # Predictions on the test set\n",
    "        y_pred = RandomForest_bestpipeline_fitted_model.predict(X_test)\n",
    "        f1 = f1_score(y_test, y_pred, average=\"macro\")\n",
    "        prec = precision_score(y_test, y_pred, average=\"macro\")\n",
    "        acc = accuracy_score(y_test, y_pred)\n",
    "        recall = recall_score(y_test, y_pred, average='macro')\n",
    "        metrics[\"Random Forest\"] = {\"f1\": f1, \"Precision\": prec, \"Recall\":recall, \"Accuracy\":acc}\n",
    "        "
   ]
  },
  {
   "cell_type": "code",
   "execution_count": 85,
   "id": "b2058d0b",
   "metadata": {},
   "outputs": [],
   "source": [
    "import imblearn\n",
    "import catboost\n",
    "import fasttreeshap\n",
    "\n",
    "def plot_shap_values(model, X_test, **kwargs):\n",
    "    \"\"\"\n",
    "    Create a plot of shap values for a given pre-fitted estimator. SHAP VALUES DO NOT SUPPORT STACKING CLASSIFIERS\n",
    "    Parameters\n",
    "    ----------\n",
    "    model : imblearn.pipeline.Pipeline model or sklearn classifier\n",
    "    X_test : pandas.DataFrame\n",
    "        The test portion of a dataset\n",
    "    set_size : OPTIONAL, tuple\n",
    "        Set the figure size in inches -> Example: (15, 11)\n",
    "    output_directory : OPTIONAL, str\n",
    "        The path of the plot\n",
    "    \"\"\"\n",
    "    # REFERENCES :\n",
    "    # https://github.com/slundberg/shap/issues/406\n",
    "    # PROBLEM #1 : plot shap_values was plotting categorical variables in gray (see ref above)\n",
    "    # FIXED #1 : PROBLEM #1 has been resolved. 'features' object of shap.summary_plot must be a numpy array, not a dataframe.\n",
    "\n",
    "    # PROBLEM #2 : Plot shap values of OneHotEncoded columns in terms of original categorical property (Next Update)\n",
    "        \n",
    "    if type(model) == imblearn.pipeline.Pipeline:\n",
    "        # If the user is using a pipeline model, \n",
    "        # the shap values are calculated in this if block!\n",
    "\n",
    "        pre_model = model['pre'] # Pre step of the pipeline\n",
    "        classifier = model['clf'] # Classifier of the pipeline\n",
    "        ct = model.named_steps['pre'] # Define the column transform for the given pipeline model          \n",
    "        \n",
    "        if type(classifier) == catboost.core.CatBoostClassifier:\n",
    "            explainer = fasttreeshap.TreeExplainer(classifier, feature_names=X_test.columns.tolist())\n",
    "            (n, d) = X_test.shape\n",
    "       \n",
    "        elif type(classifier) != catboost.core.CatBoostClassifier:\n",
    "            # When the user uses a non-CatBoost model (Random Forest, LGBM, XGBoost) with some categorical variables, \n",
    "            # the \"pre\" step of the pipeline applies OneHotEncoder for categorical variables. \n",
    "            # In other words, the dimension of X_train and X_test change at the \"pre\" stage of the pipeline. \n",
    "            # For this reason, the columns of X_test are not recognized by the bestpipeline_fitted_model, \n",
    "            # but the columns of the column-transformed version are. \n",
    "            # Therefore, we need to apply a column transform first and then check the shap values of individual OneHotEncoder columns.\n",
    "            \n",
    "            # In the next update, the shap values of the OneHotEncoder columns will be collected and written \n",
    "            # in terms of the original categorical feature.\n",
    "                        \n",
    "            X_test_transform = pd.DataFrame(ct.transform(X_test), columns= pre_model.get_feature_names_out().tolist())    \n",
    "            explainer = fasttreeshap.TreeExplainer(classifier, feature_names=X_test_transform.columns.tolist())\n",
    "            (n, d) = X_test_transform.shape    \n",
    "    \n",
    "    else:\n",
    "        explainer = fasttreeshap.TreeExplainer(model, feature_names=X_test.columns.tolist())\n",
    "        (n, d) = X_test.shape    \n",
    "\n",
    "    # Plotting part starts here!\n",
    "    # The plotting part can be written in a cleaner way.\n",
    "    # However, shap.summary_plot calls 'plt.show()' to ensure the plot displays, which makes it\n",
    "    # a bit difficult to save two consecutive summary plots.\n",
    "    # Therefore, we have to set 'show=False' for the first shap.summary_plot.\n",
    "    # If an output_directory is set, only the second plot will be displayed, but both plots will be saved separately.\n",
    "    # If an output_directory is NOT set, then both plots will be displayed. However, none of them will be saved.\n",
    "    \n",
    "    if \"output_directory\" in kwargs:\n",
    "        show=False\n",
    "        if not os.path.exists(kwargs['output_directory']):\n",
    "            os.makedirs(kwargs['output_directory'])\n",
    "    else:\n",
    "        show=True    \n",
    "    \n",
    "    # Let's compute shap values and plot the first summary_plot\n",
    "    if type(model) == imblearn.pipeline.Pipeline:\n",
    "        if type(classifier) == catboost.core.CatBoostClassifier:\n",
    "            shap_vals = explainer.shap_values(X_test)\n",
    "            fasttreeshap.summary_plot(shap_vals, features=np.array(X_test), feature_names=X_test.columns, max_display = d, show=show)\n",
    "        elif type(classifier) != catboost.core.CatBoostClassifier:\n",
    "            shap_vals = explainer.shap_values(X_test_transform)\n",
    "            fasttreeshap.summary_plot(shap_vals, features=np.array(X_test_transform), feature_names=X_test_transform.columns, max_display = d, show=show)\n",
    "    else:\n",
    "        shap_vals = explainer.shap_values(X_test)\n",
    "        fasttreeshap.summary_plot(shap_vals, features=np.array(X_test), feature_names=X_test.columns, max_display = d, show=show)\n",
    "    \n",
    "    # \"set_size\" is OPTIONAL to change the size of the figures\n",
    "    if \"set_size\" in kwargs:\n",
    "        fig1 = plt.gcf()\n",
    "        fig1.set_size_inches(kwargs['set_size'][0], kwargs['set_size'][1])\n",
    "        fig1.tight_layout()\n",
    "    else:\n",
    "        fig1 = plt.gcf()\n",
    "        fig1.set_size_inches(12, 12)\n",
    "        fig1.tight_layout()\n",
    "\n",
    "    if \"output_directory\" in kwargs:\n",
    "        fig1.savefig(os.path.join(kwargs['output_directory'], 'shap_summary.png'))\n",
    "        fig1.clf()\n",
    "\n",
    "    # Let's plot the second summary_plot with a plot_type=\"bar\"   \n",
    "    if type(model) == imblearn.pipeline.Pipeline:\n",
    "        if type(classifier) == catboost.core.CatBoostClassifier:\n",
    "            fasttreeshap.summary_plot(shap_vals, features=np.array(X_test), feature_names=X_test.columns, plot_type=\"bar\", max_display = d, show=show)\n",
    "        elif type(classifier) != catboost.core.CatBoostClassifier:\n",
    "            fasttreeshap.summary_plot(shap_vals, features=np.array(X_test_transform), feature_names=X_test_transform.columns, plot_type=\"bar\", max_display = d, show=show)\n",
    "    else:\n",
    "        fasttreeshap.summary_plot(shap_vals, features=np.array(X_test), feature_names=X_test.columns, plot_type=\"bar\", max_display = d, show=show)\n",
    "    \n",
    "    # \"set_size\" is OPTIONAL to change the size of the figures\n",
    "    if \"set_size\" in kwargs:\n",
    "        fig2 = plt.gcf()\n",
    "        fig2.set_size_inches(kwargs['set_size'][0], kwargs['set_size'][1])\n",
    "        fig2.tight_layout()\n",
    "    else:\n",
    "        fig2 = plt.gcf()\n",
    "        fig2.set_size_inches(12, 12)\n",
    "        fig2.tight_layout()    \n",
    "    \n",
    "    if \"output_directory\" in kwargs:\n",
    "        fig2.savefig(os.path.join(kwargs['output_directory'], 'shap_summary_barplot.png'))\n",
    "        \n",
    "    return shap_vals"
   ]
  },
  {
   "cell_type": "code",
   "execution_count": 87,
   "id": "33b63afe",
   "metadata": {},
   "outputs": [
    {
     "data": {
      "image/png": "[encoded data removed]",
      "text/plain": [
       "<Figure size 864x864 with 1 Axes>"
      ]
     },
     "metadata": {},
     "output_type": "display_data"
    }
   ],
   "source": [
    "fe.plot_shap_values(CatBoost_bestpipeline_fitted_model,\n",
    "                 X_test,\n",
    "                 output_directory=CatBoost_predictions_folder, \n",
    "                 title= 'CatBoost_SHAP_values.png')"
   ]
  },
  {
   "cell_type": "code",
   "execution_count": null,
   "id": "74218087",
   "metadata": {},
   "outputs": [],
   "source": []
  }
 ],
 "metadata": {
  "kernelspec": {
   "display_name": "Geods Kernel",
   "language": "python",
   "name": "geods"
  },
  "language_info": {
   "codemirror_mode": {
    "name": "ipython",
    "version": 3
   },
   "file_extension": ".py",
   "mimetype": "text/x-python",
   "name": "python",
   "nbconvert_exporter": "python",
   "pygments_lexer": "ipython3",
   "version": "3.7.10"
  }
 },
 "nbformat": 4,
 "nbformat_minor": 5
}
